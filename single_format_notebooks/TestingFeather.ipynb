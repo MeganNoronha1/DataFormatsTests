{
 "cells": [
  {
   "cell_type": "code",
   "execution_count": 48,
   "id": "d01b6d19",
   "metadata": {},
   "outputs": [],
   "source": [
    "import numpy as np\n",
    "import pandas as pd\n",
    "import json\n",
    "import netCDF4 as nc\n",
    "import pyarrow as pa\n",
    "import pyarrow.parquet as pq\n",
    "import fastparquet as fpq\n",
    "import pyarrow.feather as feather\n",
    "import fastavro as avro\n",
    "import uuid\n",
    "import os\n",
    "from time import time_ns\n",
    "from enum import Enum\n",
    "import matplotlib.pyplot as plt"
   ]
  },
  {
   "cell_type": "code",
   "execution_count": 49,
   "id": "d3c00f84",
   "metadata": {},
   "outputs": [],
   "source": [
    "# Common functions and values\n",
    "def make_test_meta():\n",
    "    test_meta = {'uuid': str(uuid.uuid1()),\n",
    "                'param1':12,\n",
    "                'param2':'a_string',\n",
    "                'param3': np.random.rand()*1e9,\n",
    "                'param4':['alist','of','strings']}\n",
    "    return test_meta\n",
    "    \n",
    "\n",
    "def make_test_data(length_of_data):\n",
    "    test_data = {'time' :(np.array(range(length_of_data))*1e-9), \n",
    "                 'vals' : np.random.randn(length_of_data),\n",
    "                 'volts': np.random.randn(length_of_data), \n",
    "                 'dp'   : np.random.randn(length_of_data),\n",
    "                 'dr'   : np.random.randn(length_of_data)}\n",
    "    return test_data\n",
    "\n",
    "def get_col_names():\n",
    "    return ['time', 'vals', 'volts', 'dp', 'dr']\n",
    "def round_4(val):\n",
    "    return round(val, 4)\n"
   ]
  },
  {
   "cell_type": "code",
   "execution_count": 52,
   "id": "0fc08e4e",
   "metadata": {},
   "outputs": [],
   "source": [
    "# Feather methods\n",
    "def FE_make_meta_groups(n_to_write):\n",
    "    metadata_rows = {}\n",
    "    for i in range(n_to_write):\n",
    "        test_meta = json.dumps(make_test_meta())\n",
    "        metadata_rows[test_meta] = i\n",
    "    return json.dumps(metadata_rows)\n",
    "\n",
    "\n",
    "def FE_update_schema_w_meta(length_of_data, n_to_write, table):\n",
    "\n",
    "    row_group_mappings = FE_make_meta_groups(n_to_write)\n",
    "    custom_metadata = {'row_group_meta': row_group_mappings , 'length_of_data' : str(length_of_data)}\n",
    "    existing_metadata = table.schema.metadata\n",
    "    merged_metadata = { **custom_metadata, **existing_metadata }\n",
    "    table = table.replace_schema_metadata(merged_metadata)\n",
    "    return table\n",
    "\n",
    "def FE_write_n_to_file(length_of_data, n_to_write, fp = None):\n",
    "    \n",
    "    if fp is None:\n",
    "        fp = 'FETestFile1.feather'\n",
    "        \n",
    "    if os.path.exists(fp):\n",
    "        os.unlink(fp)\n",
    "    \n",
    "    then = time_ns()\n",
    "    \n",
    "#     First create the dataframe with all the experiment data compiled\n",
    "    all_data = []\n",
    "    for i in range(n_to_write):\n",
    "        df = pd.DataFrame(make_test_data(length_of_data))       \n",
    "        all_data.append(df)\n",
    "    df = pd.concat(all_data, ignore_index=True)\n",
    "    # Then create a pyarrow table\n",
    "    table = pa.Table.from_pandas(df, preserve_index=False)\n",
    "    # Then attached the metadata with the table schema\n",
    "    table_w_meta = FE_update_schema_w_meta(length_of_data, n_to_write, table)\n",
    "    # Then write table to file\n",
    "    feather.write_feather(table_w_meta, fp)\n",
    "    \n",
    "    now = time_ns()\n",
    "    file_size = os.path.getsize(fp)/1000 #to get in kb\n",
    "    return (now-then) * 1e-9, file_size\n",
    "\n",
    "\n",
    "def FE_load(source):\n",
    "    then = time_ns()\n",
    "    \n",
    "    arrow_table = feather.read_table(source, columns=['time', 'vals','volts'])\n",
    "    meta = arrow_table.schema.metadata[b'row_group_meta']\n",
    "    row_group_meta = json.loads(meta)\n",
    "    length_of_data = int(arrow_table.schema.metadata[b'length_of_data'])\n",
    "#     print(row_group_meta)\n",
    "    metadata_read = (time_ns() - then)*1e-9\n",
    "    # Get a list of batches, each with size = length_of_data\n",
    "    table_batches = arrow_table.to_batches(max_chunksize=length_of_data) \n",
    "    for batch in table_batches:\n",
    "        data = batch.to_pandas()\n",
    "#         print(data)\n",
    "\n",
    "    columns_read = (time_ns() - then)*1e-9\n",
    "    \n",
    "    return metadata_read, columns_read\n",
    "\n"
   ]
  },
  {
   "cell_type": "code",
   "execution_count": 53,
   "id": "83a0c7b7",
   "metadata": {},
   "outputs": [
    {
     "name": "stdout",
     "output_type": "stream",
     "text": [
      "time to write: 0.4696 s, time to metaread 0.0578 s and colread is 0.109 s, size is 40009.234 KB\n"
     ]
    }
   ],
   "source": [
    "# small test to check functionality\n",
    "fp = 'FETestFile1.feather'\n",
    "writetime, filesize = FE_write_n_to_file(1000000, 1, fp)\n",
    "metadata_read, columns_read = FE_load(fp)\n",
    "# print(writetime, filesize)\n",
    "\n",
    "print(f'time to write: {round_4(writetime)} s, time to metaread {round_4(metadata_read)} s and colread is {round_4(columns_read)} s, size is {round_4(filesize)} KB')"
   ]
  },
  {
   "cell_type": "markdown",
   "id": "c1d323fc",
   "metadata": {},
   "source": [
    "Links to documentation/resources\n",
    "\n",
    "Objects:\n",
    "- [Feather.read_table](https://arrow.apache.org/docs/python/generated/pyarrow.feather.read_table.html)\n",
    "- [Table.to_batches](https://arrow.apache.org/docs/python/generated/pyarrow.Table.html#pyarrow.Table.to_batches)\n",
    "- [PyArrow Table API](https://arrow.apache.org/docs/python/generated/pyarrow.Table.html)\n",
    "\n",
    "\n",
    "Resources:\n",
    "- [Feather has more stability for long term storage](https://ursalabs.org/blog/2020-feather-v2/)\n"
   ]
  }
 ],
 "metadata": {
  "kernelspec": {
   "display_name": "Python 3 (ipykernel)",
   "language": "python",
   "name": "python3"
  },
  "language_info": {
   "codemirror_mode": {
    "name": "ipython",
    "version": 3
   },
   "file_extension": ".py",
   "mimetype": "text/x-python",
   "name": "python",
   "nbconvert_exporter": "python",
   "pygments_lexer": "ipython3",
   "version": "3.10.9"
  }
 },
 "nbformat": 4,
 "nbformat_minor": 5
}
