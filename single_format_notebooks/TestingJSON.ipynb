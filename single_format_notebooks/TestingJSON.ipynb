{
 "cells": [
  {
   "cell_type": "code",
   "execution_count": 3,
   "metadata": {},
   "outputs": [],
   "source": [
    "import numpy as np\n",
    "import pandas as pd\n",
    "import json\n",
    "import uuid\n",
    "import os\n",
    "from time import time_ns"
   ]
  },
  {
   "cell_type": "code",
   "execution_count": 4,
   "metadata": {},
   "outputs": [
    {
     "data": {
      "text/plain": [
       "'359d0c60-d98a-11ed-baa8-e8d63159f8ff'"
      ]
     },
     "execution_count": 4,
     "metadata": {},
     "output_type": "execute_result"
    }
   ],
   "source": [
    "str(uuid.uuid1())"
   ]
  },
  {
   "cell_type": "code",
   "execution_count": 10,
   "metadata": {},
   "outputs": [],
   "source": [
    "# add a question mark before or after a function to print the docstring\n",
    "np.random.randn?\n",
    "# uuid.uuid1?"
   ]
  },
  {
   "cell_type": "code",
   "execution_count": 5,
   "metadata": {},
   "outputs": [],
   "source": [
    "def make_test_meta():\n",
    "    test_meta = {'uuid': str(uuid.uuid1()),\n",
    "                'param1':12,\n",
    "                'param2':'a_string',\n",
    "                'param3': np.random.rand()*1e9,\n",
    "                'param4':['alist','of','strings']}\n",
    "    return test_meta\n",
    "\n",
    "\n",
    "# time is in nano seconds? generealy, about 1200 datapoints\n",
    "def make_test_data(length_of_data):\n",
    "    test_data = {'time':(np.array(range(length_of_data))*1e-9).tolist(), # to_list is necessary because json.dumps only takes native python types not numpy types\n",
    "                'vals': np.random.randn(length_of_data).tolist()}\n",
    "    return test_data\n",
    "\n",
    "def make_json_datastore(testdata, meta=None):\n",
    "    if meta is None:\n",
    "        test_meta = make_test_meta()\n",
    "    metadata_as_string = json.dumps(test_meta)\n",
    "    kepler_json_format = {metadata_as_string: testdata}\n",
    "    return kepler_json_format\n",
    "\n",
    "def write_n_to_file(length_of_data, n_to_write, fp = None):\n",
    "    if fp is None:\n",
    "        fp = 'testfile.json'\n",
    "    if os.path.exists(fp):\n",
    "        os.remove(fp)\n",
    "    then = time_ns()\n",
    "    with open(fp,'w+') as f:\n",
    "        for i in range(n_to_write):\n",
    "            jsonified_data = make_json_datastore(make_test_data(length_of_data)) \n",
    "            to_write = json.dumps(jsonified_data)\n",
    "            f.write(to_write+'\\r')\n",
    "    now = time_ns()\n",
    "    return (now-then) * 1e-9\n",
    "\n",
    "def jsonlike_load(source):\n",
    "    then = time_ns()\n",
    "    with open(source, 'r') as f:\n",
    "        lines = f.readlines()\n",
    "\n",
    "    metajson = {}\n",
    "    for line in lines:\n",
    "        subjson = json.loads(line.rstrip(r'\\n'))\n",
    "        for key, item in subjson.items():\n",
    "            metajson[key] = item\n",
    "    now = time_ns()\n",
    "    return metajson, (now-then)*1e-9"
   ]
  },
  {
   "cell_type": "code",
   "execution_count": 6,
   "metadata": {},
   "outputs": [
    {
     "name": "stdout",
     "output_type": "stream",
     "text": [
      "time to write: 0.5070342 s, time to read 0.24158900000000003 s \n"
     ]
    }
   ],
   "source": [
    "fp = 'testfile.json'\n",
    "# does 100 represent the number of experiments and 1200 is the no of nanoseconds, so each 1 experiment has 1200 datapoints\n",
    "writetime = write_n_to_file(1200,100, fp)\n",
    "out, readtime = jsonlike_load('testfile.json')\n",
    "print(f'time to write: {writetime} s, time to read {readtime} s ')"
   ]
  },
  {
   "cell_type": "code",
   "execution_count": null,
   "metadata": {},
   "outputs": [],
   "source": []
  }
 ],
 "metadata": {
  "kernelspec": {
   "display_name": "Python 3 (ipykernel)",
   "language": "python",
   "name": "python3"
  },
  "language_info": {
   "codemirror_mode": {
    "name": "ipython",
    "version": 3
   },
   "file_extension": ".py",
   "mimetype": "text/x-python",
   "name": "python",
   "nbconvert_exporter": "python",
   "pygments_lexer": "ipython3",
   "version": "3.10.9"
  }
 },
 "nbformat": 4,
 "nbformat_minor": 4
}
